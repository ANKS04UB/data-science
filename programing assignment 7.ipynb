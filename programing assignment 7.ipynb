{
 "cells": [
  {
   "cell_type": "code",
   "execution_count": 1,
   "id": "5997ecc4",
   "metadata": {},
   "outputs": [
    {
     "name": "stdout",
     "output_type": "stream",
     "text": [
      "34\n"
     ]
    }
   ],
   "source": [
    "# 1.Write a Python Program to find sum of array?\n",
    "list1 = [12, 3, 4, 15]\n",
    "s=0\n",
    "for i,a in enumerate(list1):\n",
    "  s+=a\n",
    "print(s)"
   ]
  },
  {
   "cell_type": "code",
   "execution_count": 1,
   "id": "fa1dee5d",
   "metadata": {},
   "outputs": [
    {
     "name": "stdout",
     "output_type": "stream",
     "text": [
      "15\n"
     ]
    }
   ],
   "source": [
    "# 2.Write a Python Program to find largest element in an array?\n",
    "list1 = [12, 3, 4, 15]\n",
    "for i in list1:\n",
    "    if i==max(list1):\n",
    "        print(i)"
   ]
  },
  {
   "cell_type": "code",
   "execution_count": 9,
   "id": "cb26f0b1",
   "metadata": {},
   "outputs": [],
   "source": [
    "# 3.Write a Python Program for array rotation\n",
    "a = [12, 3, 4, 15]\n",
    "d = 2\n",
    "n= len(a)\n",
    "a[:]=a[d:n]+a[:2]"
   ]
  },
  {
   "cell_type": "code",
   "execution_count": 10,
   "id": "49bb04ad",
   "metadata": {},
   "outputs": [
    {
     "data": {
      "text/plain": [
       "[4, 15, 12, 3]"
      ]
     },
     "execution_count": 10,
     "metadata": {},
     "output_type": "execute_result"
    }
   ],
   "source": [
    "a"
   ]
  },
  {
   "cell_type": "code",
   "execution_count": 1,
   "id": "e898dd66",
   "metadata": {},
   "outputs": [
    {
     "name": "stdout",
     "output_type": "stream",
     "text": [
      "15 16 50 36 15 40 "
     ]
    }
   ],
   "source": [
    "# 4.Write a Python Program to Split the array and add the first part to the end?\n",
    "def SplitArray(arr, n, k):\n",
    "    for i in range(0, k):\n",
    "        x = arr[0]\n",
    "        for j in range(0, n-1):\n",
    "            arr[j] = arr[j + 1]\n",
    "            \n",
    "        arr[n-1] = x\n",
    "arr = [15, 40, 15, 16, 50, 36]\n",
    "n = len(arr)\n",
    "position = 2\n",
    "SplitArray(arr, n, position)\n",
    "for i in range(0, n):\n",
    "    print(arr[i], end = ' ')"
   ]
  },
  {
   "cell_type": "code",
   "execution_count": 6,
   "id": "6408f316",
   "metadata": {},
   "outputs": [
    {
     "name": "stdout",
     "output_type": "stream",
     "text": [
      "monotonous\n"
     ]
    }
   ],
   "source": [
    "# 5 Write a Python Program to check if given array is Monotonic\n",
    "l = [7,3,2,1,0]\n",
    "inc_l = sorted(l)\n",
    "dec_l = l.sort(reverse=False)\n",
    "if l==inc_l :\n",
    "    print(\"monotonous\")\n",
    "elif l == dec_l:\n",
    "    print(\"monotonous\")\n",
    "else:\n",
    "    print(\"non-monotonous\")"
   ]
  },
  {
   "cell_type": "code",
   "execution_count": null,
   "id": "7c14144d",
   "metadata": {},
   "outputs": [],
   "source": []
  }
 ],
 "metadata": {
  "kernelspec": {
   "display_name": "Python 3 (ipykernel)",
   "language": "python",
   "name": "python3"
  },
  "language_info": {
   "codemirror_mode": {
    "name": "ipython",
    "version": 3
   },
   "file_extension": ".py",
   "mimetype": "text/x-python",
   "name": "python",
   "nbconvert_exporter": "python",
   "pygments_lexer": "ipython3",
   "version": "3.9.12"
  }
 },
 "nbformat": 4,
 "nbformat_minor": 5
}
