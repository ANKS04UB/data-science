{
 "cells": [
  {
   "cell_type": "code",
   "execution_count": 4,
   "id": "a8aadac7",
   "metadata": {},
   "outputs": [
    {
     "name": "stdout",
     "output_type": "stream",
     "text": [
      "[[ 9  7  6]\n",
      " [ 7 10 14]]\n"
     ]
    }
   ],
   "source": [
    "#1.Write a Python Program to Add Two Matrices\n",
    "import numpy as np\n",
    "a = np.array([[1,2,3],[4,5,6]])\n",
    "b = np.array([[8,5,3],[3,5,8]])\n",
    "print(a+b)"
   ]
  },
  {
   "cell_type": "code",
   "execution_count": 1,
   "id": "86b4e1d0",
   "metadata": {},
   "outputs": [
    {
     "name": "stdout",
     "output_type": "stream",
     "text": [
      "[[ 8 10  9]\n",
      " [12 25 48]]\n"
     ]
    }
   ],
   "source": [
    "#2.Write a Python Program to Multiply Two Matrices?\n",
    "import numpy as np\n",
    "a = np.array([[1,2,3],[4,5,6]])\n",
    "b = np.array([[8,5,3],[3,5,8]])\n",
    "print(a*b)"
   ]
  },
  {
   "cell_type": "code",
   "execution_count": 1,
   "id": "f2b91b5c",
   "metadata": {},
   "outputs": [
    {
     "data": {
      "text/plain": [
       "array([[1, 4],\n",
       "       [2, 5],\n",
       "       [3, 6]])"
      ]
     },
     "execution_count": 1,
     "metadata": {},
     "output_type": "execute_result"
    }
   ],
   "source": [
    "#3.Write a Python Program to Transpose a Matrix?\n",
    "import numpy as np\n",
    "a = np.array([[1,2,3],[4,5,6]])\n",
    "a_transpose = a.transpose()\n",
    "a_transpose"
   ]
  },
  {
   "cell_type": "code",
   "execution_count": 1,
   "id": "3f36ad8a",
   "metadata": {},
   "outputs": [
    {
     "name": "stdout",
     "output_type": "stream",
     "text": [
      "ahknsu\n"
     ]
    }
   ],
   "source": [
    "# 4.Write a Python Program to Sort Words in Alphabetic Order?\n",
    "s = 'ankush'\n",
    "l = list(s)\n",
    "l = sorted(l) \n",
    "result = ''.join(l)\n",
    "print(result)"
   ]
  },
  {
   "cell_type": "code",
   "execution_count": 2,
   "id": "1d810d44",
   "metadata": {},
   "outputs": [
    {
     "name": "stdout",
     "output_type": "stream",
     "text": [
      "wow you are the best\n"
     ]
    }
   ],
   "source": [
    "# 5.Write a Python Program to Remove Punctuation From a String?\n",
    "import re\n",
    "string1 = \"wow! you are the best.\"\n",
    "res = re.sub(r'[^\\w\\s]','',string1)\n",
    "print(res)"
   ]
  },
  {
   "cell_type": "code",
   "execution_count": null,
   "id": "d73ca142",
   "metadata": {},
   "outputs": [],
   "source": []
  }
 ],
 "metadata": {
  "kernelspec": {
   "display_name": "Python 3 (ipykernel)",
   "language": "python",
   "name": "python3"
  },
  "language_info": {
   "codemirror_mode": {
    "name": "ipython",
    "version": 3
   },
   "file_extension": ".py",
   "mimetype": "text/x-python",
   "name": "python",
   "nbconvert_exporter": "python",
   "pygments_lexer": "ipython3",
   "version": "3.9.12"
  }
 },
 "nbformat": 4,
 "nbformat_minor": 5
}
