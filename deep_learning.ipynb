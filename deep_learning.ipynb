{
  "nbformat": 4,
  "nbformat_minor": 0,
  "metadata": {
    "colab": {
      "provenance": [],
      "authorship_tag": "ABX9TyMN3avqYIXZ9FM4SvjVJzR+",
      "include_colab_link": true
    },
    "kernelspec": {
      "name": "python3",
      "display_name": "Python 3"
    },
    "language_info": {
      "name": "python"
    },
    "gpuClass": "standard",
    "accelerator": "GPU"
  },
  "cells": [
    {
      "cell_type": "markdown",
      "metadata": {
        "id": "view-in-github",
        "colab_type": "text"
      },
      "source": [
        "<a href=\"https://colab.research.google.com/github/ANKS04UB/data-science/blob/main/deep_learning.ipynb\" target=\"_parent\"><img src=\"https://colab.research.google.com/assets/colab-badge.svg\" alt=\"Open In Colab\"/></a>"
      ]
    },
    {
      "cell_type": "code",
      "execution_count": null,
      "metadata": {
        "colab": {
          "base_uri": "https://localhost:8080/"
        },
        "id": "jJTEgdC8vFm6",
        "outputId": "15e36b8c-8eda-49b5-8966-a92e3b2d171e"
      },
      "outputs": [
        {
          "output_type": "stream",
          "name": "stdout",
          "text": [
            "2.9.2\n"
          ]
        }
      ],
      "source": [
        "import tensorflow\n",
        "print(tensorflow.__version__)"
      ]
    },
    {
      "cell_type": "code",
      "source": [],
      "metadata": {
        "id": "t_GJRnfCxBKi"
      },
      "execution_count": null,
      "outputs": []
    },
    {
      "cell_type": "code",
      "source": [
        "import numpy as np\n",
        "import matplotlib.pyplot as plt\n",
        "import pandas as pd\n"
      ],
      "metadata": {
        "id": "ScbCj8UbV714"
      },
      "execution_count": 1,
      "outputs": []
    },
    {
      "cell_type": "code",
      "source": [
        "dataset=pd.read_csv(\"/content/aps_data.csv\")"
      ],
      "metadata": {
        "colab": {
          "base_uri": "https://localhost:8080/"
        },
        "id": "VxKjPlQ6WK04",
        "outputId": "ab72bea0-782d-40ec-ca50-b41f47de5585"
      },
      "execution_count": 2,
      "outputs": [
        {
          "output_type": "stream",
          "name": "stderr",
          "text": [
            "/usr/local/lib/python3.8/dist-packages/IPython/core/interactiveshell.py:3326: DtypeWarning: Columns (81) have mixed types.Specify dtype option on import or set low_memory=False.\n",
            "  exec(code_obj, self.user_global_ns, self.user_ns)\n"
          ]
        }
      ]
    },
    {
      "cell_type": "code",
      "source": [
        "dataset.head()"
      ],
      "metadata": {
        "id": "XMohIxq6JKrM",
        "colab": {
          "base_uri": "https://localhost:8080/",
          "height": 299
        },
        "outputId": "3bf0c428-fd77-45a9-ddee-c50dab59ef5e"
      },
      "execution_count": 3,
      "outputs": [
        {
          "output_type": "execute_result",
          "data": {
            "text/plain": [
              "  class  aa_000 ab_000 ac_000 ad_000 ae_000 af_000 ag_000 ag_001 ag_002  ...  \\\n",
              "0   neg       6      0      0      0      0      0      0      0      0  ...   \n",
              "1   neg      90      0      0     66      0      0      0      0      0  ...   \n",
              "2   neg      30     na     16     14      0      0      0      0      0  ...   \n",
              "3   neg     444     na     14     12      0      0      0      0      0  ...   \n",
              "4   neg      82     na     12     10      0      0      0      0   1464  ...   \n",
              "\n",
              "  ee_002 ee_003 ee_004 ee_005 ee_006 ee_007 ee_008 ee_009 ef_000 eg_000  \n",
              "0     26      8     26     52      0      0      0      0      0      0  \n",
              "1   1268    526    554    300    118    260      0      0      0      0  \n",
              "2    480     84     74     50     46      0      0      0      0      0  \n",
              "3   1614   1144   3598   2460   1258   8524    110      0      0      0  \n",
              "4   1010    132    310     56     92   1292      0      0      0      0  \n",
              "\n",
              "[5 rows x 171 columns]"
            ],
            "text/html": [
              "\n",
              "  <div id=\"df-1668a663-224d-4016-a401-94268c426378\">\n",
              "    <div class=\"colab-df-container\">\n",
              "      <div>\n",
              "<style scoped>\n",
              "    .dataframe tbody tr th:only-of-type {\n",
              "        vertical-align: middle;\n",
              "    }\n",
              "\n",
              "    .dataframe tbody tr th {\n",
              "        vertical-align: top;\n",
              "    }\n",
              "\n",
              "    .dataframe thead th {\n",
              "        text-align: right;\n",
              "    }\n",
              "</style>\n",
              "<table border=\"1\" class=\"dataframe\">\n",
              "  <thead>\n",
              "    <tr style=\"text-align: right;\">\n",
              "      <th></th>\n",
              "      <th>class</th>\n",
              "      <th>aa_000</th>\n",
              "      <th>ab_000</th>\n",
              "      <th>ac_000</th>\n",
              "      <th>ad_000</th>\n",
              "      <th>ae_000</th>\n",
              "      <th>af_000</th>\n",
              "      <th>ag_000</th>\n",
              "      <th>ag_001</th>\n",
              "      <th>ag_002</th>\n",
              "      <th>...</th>\n",
              "      <th>ee_002</th>\n",
              "      <th>ee_003</th>\n",
              "      <th>ee_004</th>\n",
              "      <th>ee_005</th>\n",
              "      <th>ee_006</th>\n",
              "      <th>ee_007</th>\n",
              "      <th>ee_008</th>\n",
              "      <th>ee_009</th>\n",
              "      <th>ef_000</th>\n",
              "      <th>eg_000</th>\n",
              "    </tr>\n",
              "  </thead>\n",
              "  <tbody>\n",
              "    <tr>\n",
              "      <th>0</th>\n",
              "      <td>neg</td>\n",
              "      <td>6</td>\n",
              "      <td>0</td>\n",
              "      <td>0</td>\n",
              "      <td>0</td>\n",
              "      <td>0</td>\n",
              "      <td>0</td>\n",
              "      <td>0</td>\n",
              "      <td>0</td>\n",
              "      <td>0</td>\n",
              "      <td>...</td>\n",
              "      <td>26</td>\n",
              "      <td>8</td>\n",
              "      <td>26</td>\n",
              "      <td>52</td>\n",
              "      <td>0</td>\n",
              "      <td>0</td>\n",
              "      <td>0</td>\n",
              "      <td>0</td>\n",
              "      <td>0</td>\n",
              "      <td>0</td>\n",
              "    </tr>\n",
              "    <tr>\n",
              "      <th>1</th>\n",
              "      <td>neg</td>\n",
              "      <td>90</td>\n",
              "      <td>0</td>\n",
              "      <td>0</td>\n",
              "      <td>66</td>\n",
              "      <td>0</td>\n",
              "      <td>0</td>\n",
              "      <td>0</td>\n",
              "      <td>0</td>\n",
              "      <td>0</td>\n",
              "      <td>...</td>\n",
              "      <td>1268</td>\n",
              "      <td>526</td>\n",
              "      <td>554</td>\n",
              "      <td>300</td>\n",
              "      <td>118</td>\n",
              "      <td>260</td>\n",
              "      <td>0</td>\n",
              "      <td>0</td>\n",
              "      <td>0</td>\n",
              "      <td>0</td>\n",
              "    </tr>\n",
              "    <tr>\n",
              "      <th>2</th>\n",
              "      <td>neg</td>\n",
              "      <td>30</td>\n",
              "      <td>na</td>\n",
              "      <td>16</td>\n",
              "      <td>14</td>\n",
              "      <td>0</td>\n",
              "      <td>0</td>\n",
              "      <td>0</td>\n",
              "      <td>0</td>\n",
              "      <td>0</td>\n",
              "      <td>...</td>\n",
              "      <td>480</td>\n",
              "      <td>84</td>\n",
              "      <td>74</td>\n",
              "      <td>50</td>\n",
              "      <td>46</td>\n",
              "      <td>0</td>\n",
              "      <td>0</td>\n",
              "      <td>0</td>\n",
              "      <td>0</td>\n",
              "      <td>0</td>\n",
              "    </tr>\n",
              "    <tr>\n",
              "      <th>3</th>\n",
              "      <td>neg</td>\n",
              "      <td>444</td>\n",
              "      <td>na</td>\n",
              "      <td>14</td>\n",
              "      <td>12</td>\n",
              "      <td>0</td>\n",
              "      <td>0</td>\n",
              "      <td>0</td>\n",
              "      <td>0</td>\n",
              "      <td>0</td>\n",
              "      <td>...</td>\n",
              "      <td>1614</td>\n",
              "      <td>1144</td>\n",
              "      <td>3598</td>\n",
              "      <td>2460</td>\n",
              "      <td>1258</td>\n",
              "      <td>8524</td>\n",
              "      <td>110</td>\n",
              "      <td>0</td>\n",
              "      <td>0</td>\n",
              "      <td>0</td>\n",
              "    </tr>\n",
              "    <tr>\n",
              "      <th>4</th>\n",
              "      <td>neg</td>\n",
              "      <td>82</td>\n",
              "      <td>na</td>\n",
              "      <td>12</td>\n",
              "      <td>10</td>\n",
              "      <td>0</td>\n",
              "      <td>0</td>\n",
              "      <td>0</td>\n",
              "      <td>0</td>\n",
              "      <td>1464</td>\n",
              "      <td>...</td>\n",
              "      <td>1010</td>\n",
              "      <td>132</td>\n",
              "      <td>310</td>\n",
              "      <td>56</td>\n",
              "      <td>92</td>\n",
              "      <td>1292</td>\n",
              "      <td>0</td>\n",
              "      <td>0</td>\n",
              "      <td>0</td>\n",
              "      <td>0</td>\n",
              "    </tr>\n",
              "  </tbody>\n",
              "</table>\n",
              "<p>5 rows × 171 columns</p>\n",
              "</div>\n",
              "      <button class=\"colab-df-convert\" onclick=\"convertToInteractive('df-1668a663-224d-4016-a401-94268c426378')\"\n",
              "              title=\"Convert this dataframe to an interactive table.\"\n",
              "              style=\"display:none;\">\n",
              "        \n",
              "  <svg xmlns=\"http://www.w3.org/2000/svg\" height=\"24px\"viewBox=\"0 0 24 24\"\n",
              "       width=\"24px\">\n",
              "    <path d=\"M0 0h24v24H0V0z\" fill=\"none\"/>\n",
              "    <path d=\"M18.56 5.44l.94 2.06.94-2.06 2.06-.94-2.06-.94-.94-2.06-.94 2.06-2.06.94zm-11 1L8.5 8.5l.94-2.06 2.06-.94-2.06-.94L8.5 2.5l-.94 2.06-2.06.94zm10 10l.94 2.06.94-2.06 2.06-.94-2.06-.94-.94-2.06-.94 2.06-2.06.94z\"/><path d=\"M17.41 7.96l-1.37-1.37c-.4-.4-.92-.59-1.43-.59-.52 0-1.04.2-1.43.59L10.3 9.45l-7.72 7.72c-.78.78-.78 2.05 0 2.83L4 21.41c.39.39.9.59 1.41.59.51 0 1.02-.2 1.41-.59l7.78-7.78 2.81-2.81c.8-.78.8-2.07 0-2.86zM5.41 20L4 18.59l7.72-7.72 1.47 1.35L5.41 20z\"/>\n",
              "  </svg>\n",
              "      </button>\n",
              "      \n",
              "  <style>\n",
              "    .colab-df-container {\n",
              "      display:flex;\n",
              "      flex-wrap:wrap;\n",
              "      gap: 12px;\n",
              "    }\n",
              "\n",
              "    .colab-df-convert {\n",
              "      background-color: #E8F0FE;\n",
              "      border: none;\n",
              "      border-radius: 50%;\n",
              "      cursor: pointer;\n",
              "      display: none;\n",
              "      fill: #1967D2;\n",
              "      height: 32px;\n",
              "      padding: 0 0 0 0;\n",
              "      width: 32px;\n",
              "    }\n",
              "\n",
              "    .colab-df-convert:hover {\n",
              "      background-color: #E2EBFA;\n",
              "      box-shadow: 0px 1px 2px rgba(60, 64, 67, 0.3), 0px 1px 3px 1px rgba(60, 64, 67, 0.15);\n",
              "      fill: #174EA6;\n",
              "    }\n",
              "\n",
              "    [theme=dark] .colab-df-convert {\n",
              "      background-color: #3B4455;\n",
              "      fill: #D2E3FC;\n",
              "    }\n",
              "\n",
              "    [theme=dark] .colab-df-convert:hover {\n",
              "      background-color: #434B5C;\n",
              "      box-shadow: 0px 1px 3px 1px rgba(0, 0, 0, 0.15);\n",
              "      filter: drop-shadow(0px 1px 2px rgba(0, 0, 0, 0.3));\n",
              "      fill: #FFFFFF;\n",
              "    }\n",
              "  </style>\n",
              "\n",
              "      <script>\n",
              "        const buttonEl =\n",
              "          document.querySelector('#df-1668a663-224d-4016-a401-94268c426378 button.colab-df-convert');\n",
              "        buttonEl.style.display =\n",
              "          google.colab.kernel.accessAllowed ? 'block' : 'none';\n",
              "\n",
              "        async function convertToInteractive(key) {\n",
              "          const element = document.querySelector('#df-1668a663-224d-4016-a401-94268c426378');\n",
              "          const dataTable =\n",
              "            await google.colab.kernel.invokeFunction('convertToInteractive',\n",
              "                                                     [key], {});\n",
              "          if (!dataTable) return;\n",
              "\n",
              "          const docLinkHtml = 'Like what you see? Visit the ' +\n",
              "            '<a target=\"_blank\" href=https://colab.research.google.com/notebooks/data_table.ipynb>data table notebook</a>'\n",
              "            + ' to learn more about interactive tables.';\n",
              "          element.innerHTML = '';\n",
              "          dataTable['output_type'] = 'display_data';\n",
              "          await google.colab.output.renderOutput(dataTable, element);\n",
              "          const docLink = document.createElement('div');\n",
              "          docLink.innerHTML = docLinkHtml;\n",
              "          element.appendChild(docLink);\n",
              "        }\n",
              "      </script>\n",
              "    </div>\n",
              "  </div>\n",
              "  "
            ]
          },
          "metadata": {},
          "execution_count": 3
        }
      ]
    },
    {
      "cell_type": "code",
      "source": [
        "dataset.isnull().sum()"
      ],
      "metadata": {
        "colab": {
          "base_uri": "https://localhost:8080/"
        },
        "id": "WZryORAxWgZX",
        "outputId": "ab9c1c2e-84e1-4167-fd28-d7f68c1dc687"
      },
      "execution_count": 4,
      "outputs": [
        {
          "output_type": "execute_result",
          "data": {
            "text/plain": [
              "class     0\n",
              "aa_000    0\n",
              "ab_000    0\n",
              "ac_000    0\n",
              "ad_000    0\n",
              "         ..\n",
              "ee_007    0\n",
              "ee_008    0\n",
              "ee_009    0\n",
              "ef_000    0\n",
              "eg_000    0\n",
              "Length: 171, dtype: int64"
            ]
          },
          "metadata": {},
          "execution_count": 4
        }
      ]
    },
    {
      "cell_type": "code",
      "source": [
        "# replacing na with nan\n",
        "dataset=dataset.replace(\"na\",np.nan)"
      ],
      "metadata": {
        "id": "FwEZl2-OW5cU"
      },
      "execution_count": 5,
      "outputs": []
    },
    {
      "cell_type": "code",
      "source": [
        "dataset.isnull().sum()"
      ],
      "metadata": {
        "colab": {
          "base_uri": "https://localhost:8080/"
        },
        "id": "zZ8R8ZWqXKNW",
        "outputId": "0e000351-fc27-4833-9d5e-1b5fad76ba7d"
      },
      "execution_count": 6,
      "outputs": [
        {
          "output_type": "execute_result",
          "data": {
            "text/plain": [
              "class        0\n",
              "aa_000       0\n",
              "ab_000    3849\n",
              "ac_000     308\n",
              "ad_000    1236\n",
              "          ... \n",
              "ee_007      58\n",
              "ee_008      58\n",
              "ee_009      58\n",
              "ef_000     242\n",
              "eg_000     242\n",
              "Length: 171, dtype: int64"
            ]
          },
          "metadata": {},
          "execution_count": 6
        }
      ]
    },
    {
      "cell_type": "code",
      "source": [
        "dataset.isnull().sum().sum()"
      ],
      "metadata": {
        "colab": {
          "base_uri": "https://localhost:8080/"
        },
        "id": "zHkAA9ZaXPo3",
        "outputId": "cd8ed553-31b7-4e72-b0e1-4d9a8e83b8fe"
      },
      "execution_count": 7,
      "outputs": [
        {
          "output_type": "execute_result",
          "data": {
            "text/plain": [
              "71649"
            ]
          },
          "metadata": {},
          "execution_count": 7
        }
      ]
    },
    {
      "cell_type": "code",
      "source": [
        "# count nan value\n",
        "pd.DataFrame(dataset.isnull().sum().sort_values(ascending=False)).rename(columns={0:'Null_value_count'})"
      ],
      "metadata": {
        "colab": {
          "base_uri": "https://localhost:8080/",
          "height": 423
        },
        "id": "nPaAPjXAXkNY",
        "outputId": "6ed4dc74-67b5-44b9-b0e0-9d8b4b608480"
      },
      "execution_count": 8,
      "outputs": [
        {
          "output_type": "execute_result",
          "data": {
            "text/plain": [
              "        Null_value_count\n",
              "br_000              4105\n",
              "bq_000              4043\n",
              "bp_000              3960\n",
              "ab_000              3849\n",
              "cr_000              3849\n",
              "...                  ...\n",
              "cj_000                38\n",
              "ci_000                38\n",
              "bt_000                12\n",
              "aa_000                 0\n",
              "class                  0\n",
              "\n",
              "[171 rows x 1 columns]"
            ],
            "text/html": [
              "\n",
              "  <div id=\"df-71295a3e-a909-4353-b4f1-b60f681f9eab\">\n",
              "    <div class=\"colab-df-container\">\n",
              "      <div>\n",
              "<style scoped>\n",
              "    .dataframe tbody tr th:only-of-type {\n",
              "        vertical-align: middle;\n",
              "    }\n",
              "\n",
              "    .dataframe tbody tr th {\n",
              "        vertical-align: top;\n",
              "    }\n",
              "\n",
              "    .dataframe thead th {\n",
              "        text-align: right;\n",
              "    }\n",
              "</style>\n",
              "<table border=\"1\" class=\"dataframe\">\n",
              "  <thead>\n",
              "    <tr style=\"text-align: right;\">\n",
              "      <th></th>\n",
              "      <th>Null_value_count</th>\n",
              "    </tr>\n",
              "  </thead>\n",
              "  <tbody>\n",
              "    <tr>\n",
              "      <th>br_000</th>\n",
              "      <td>4105</td>\n",
              "    </tr>\n",
              "    <tr>\n",
              "      <th>bq_000</th>\n",
              "      <td>4043</td>\n",
              "    </tr>\n",
              "    <tr>\n",
              "      <th>bp_000</th>\n",
              "      <td>3960</td>\n",
              "    </tr>\n",
              "    <tr>\n",
              "      <th>ab_000</th>\n",
              "      <td>3849</td>\n",
              "    </tr>\n",
              "    <tr>\n",
              "      <th>cr_000</th>\n",
              "      <td>3849</td>\n",
              "    </tr>\n",
              "    <tr>\n",
              "      <th>...</th>\n",
              "      <td>...</td>\n",
              "    </tr>\n",
              "    <tr>\n",
              "      <th>cj_000</th>\n",
              "      <td>38</td>\n",
              "    </tr>\n",
              "    <tr>\n",
              "      <th>ci_000</th>\n",
              "      <td>38</td>\n",
              "    </tr>\n",
              "    <tr>\n",
              "      <th>bt_000</th>\n",
              "      <td>12</td>\n",
              "    </tr>\n",
              "    <tr>\n",
              "      <th>aa_000</th>\n",
              "      <td>0</td>\n",
              "    </tr>\n",
              "    <tr>\n",
              "      <th>class</th>\n",
              "      <td>0</td>\n",
              "    </tr>\n",
              "  </tbody>\n",
              "</table>\n",
              "<p>171 rows × 1 columns</p>\n",
              "</div>\n",
              "      <button class=\"colab-df-convert\" onclick=\"convertToInteractive('df-71295a3e-a909-4353-b4f1-b60f681f9eab')\"\n",
              "              title=\"Convert this dataframe to an interactive table.\"\n",
              "              style=\"display:none;\">\n",
              "        \n",
              "  <svg xmlns=\"http://www.w3.org/2000/svg\" height=\"24px\"viewBox=\"0 0 24 24\"\n",
              "       width=\"24px\">\n",
              "    <path d=\"M0 0h24v24H0V0z\" fill=\"none\"/>\n",
              "    <path d=\"M18.56 5.44l.94 2.06.94-2.06 2.06-.94-2.06-.94-.94-2.06-.94 2.06-2.06.94zm-11 1L8.5 8.5l.94-2.06 2.06-.94-2.06-.94L8.5 2.5l-.94 2.06-2.06.94zm10 10l.94 2.06.94-2.06 2.06-.94-2.06-.94-.94-2.06-.94 2.06-2.06.94z\"/><path d=\"M17.41 7.96l-1.37-1.37c-.4-.4-.92-.59-1.43-.59-.52 0-1.04.2-1.43.59L10.3 9.45l-7.72 7.72c-.78.78-.78 2.05 0 2.83L4 21.41c.39.39.9.59 1.41.59.51 0 1.02-.2 1.41-.59l7.78-7.78 2.81-2.81c.8-.78.8-2.07 0-2.86zM5.41 20L4 18.59l7.72-7.72 1.47 1.35L5.41 20z\"/>\n",
              "  </svg>\n",
              "      </button>\n",
              "      \n",
              "  <style>\n",
              "    .colab-df-container {\n",
              "      display:flex;\n",
              "      flex-wrap:wrap;\n",
              "      gap: 12px;\n",
              "    }\n",
              "\n",
              "    .colab-df-convert {\n",
              "      background-color: #E8F0FE;\n",
              "      border: none;\n",
              "      border-radius: 50%;\n",
              "      cursor: pointer;\n",
              "      display: none;\n",
              "      fill: #1967D2;\n",
              "      height: 32px;\n",
              "      padding: 0 0 0 0;\n",
              "      width: 32px;\n",
              "    }\n",
              "\n",
              "    .colab-df-convert:hover {\n",
              "      background-color: #E2EBFA;\n",
              "      box-shadow: 0px 1px 2px rgba(60, 64, 67, 0.3), 0px 1px 3px 1px rgba(60, 64, 67, 0.15);\n",
              "      fill: #174EA6;\n",
              "    }\n",
              "\n",
              "    [theme=dark] .colab-df-convert {\n",
              "      background-color: #3B4455;\n",
              "      fill: #D2E3FC;\n",
              "    }\n",
              "\n",
              "    [theme=dark] .colab-df-convert:hover {\n",
              "      background-color: #434B5C;\n",
              "      box-shadow: 0px 1px 3px 1px rgba(0, 0, 0, 0.15);\n",
              "      filter: drop-shadow(0px 1px 2px rgba(0, 0, 0, 0.3));\n",
              "      fill: #FFFFFF;\n",
              "    }\n",
              "  </style>\n",
              "\n",
              "      <script>\n",
              "        const buttonEl =\n",
              "          document.querySelector('#df-71295a3e-a909-4353-b4f1-b60f681f9eab button.colab-df-convert');\n",
              "        buttonEl.style.display =\n",
              "          google.colab.kernel.accessAllowed ? 'block' : 'none';\n",
              "\n",
              "        async function convertToInteractive(key) {\n",
              "          const element = document.querySelector('#df-71295a3e-a909-4353-b4f1-b60f681f9eab');\n",
              "          const dataTable =\n",
              "            await google.colab.kernel.invokeFunction('convertToInteractive',\n",
              "                                                     [key], {});\n",
              "          if (!dataTable) return;\n",
              "\n",
              "          const docLinkHtml = 'Like what you see? Visit the ' +\n",
              "            '<a target=\"_blank\" href=https://colab.research.google.com/notebooks/data_table.ipynb>data table notebook</a>'\n",
              "            + ' to learn more about interactive tables.';\n",
              "          element.innerHTML = '';\n",
              "          dataTable['output_type'] = 'display_data';\n",
              "          await google.colab.output.renderOutput(dataTable, element);\n",
              "          const docLink = document.createElement('div');\n",
              "          docLink.innerHTML = docLinkHtml;\n",
              "          element.appendChild(docLink);\n",
              "        }\n",
              "      </script>\n",
              "    </div>\n",
              "  </div>\n",
              "  "
            ]
          },
          "metadata": {},
          "execution_count": 8
        }
      ]
    },
    {
      "cell_type": "code",
      "source": [
        "# filling zero with median\n",
        "for feature in [feature for feature in dataset.columns if feature not in ['class']]:\n",
        "  dataset[feature]=dataset[feature].fillna(dataset[feature].median())"
      ],
      "metadata": {
        "id": "yk4DYTsWYIH9"
      },
      "execution_count": 9,
      "outputs": []
    },
    {
      "cell_type": "code",
      "source": [
        "dataset.isnull().sum().sum()"
      ],
      "metadata": {
        "colab": {
          "base_uri": "https://localhost:8080/"
        },
        "id": "fsHlCky-a2nX",
        "outputId": "23a5cc29-cddc-439f-bdce-f4abe9d0269a"
      },
      "execution_count": 10,
      "outputs": [
        {
          "output_type": "execute_result",
          "data": {
            "text/plain": [
              "0"
            ]
          },
          "metadata": {},
          "execution_count": 10
        }
      ]
    },
    {
      "cell_type": "code",
      "source": [
        "dataset.head()"
      ],
      "metadata": {
        "colab": {
          "base_uri": "https://localhost:8080/",
          "height": 299
        },
        "id": "MMzVTYpSbARq",
        "outputId": "086ef116-88ba-435c-b9bf-05b9e8322549"
      },
      "execution_count": 11,
      "outputs": [
        {
          "output_type": "execute_result",
          "data": {
            "text/plain": [
              "  class  aa_000 ab_000 ac_000 ad_000 ae_000 af_000 ag_000 ag_001 ag_002  ...  \\\n",
              "0   neg       6      0      0      0      0      0      0      0      0  ...   \n",
              "1   neg      90      0      0     66      0      0      0      0      0  ...   \n",
              "2   neg      30    0.0     16     14      0      0      0      0      0  ...   \n",
              "3   neg     444    0.0     14     12      0      0      0      0      0  ...   \n",
              "4   neg      82    0.0     12     10      0      0      0      0   1464  ...   \n",
              "\n",
              "  ee_002 ee_003 ee_004 ee_005 ee_006 ee_007 ee_008 ee_009 ef_000 eg_000  \n",
              "0     26      8     26     52      0      0      0      0      0      0  \n",
              "1   1268    526    554    300    118    260      0      0      0      0  \n",
              "2    480     84     74     50     46      0      0      0      0      0  \n",
              "3   1614   1144   3598   2460   1258   8524    110      0      0      0  \n",
              "4   1010    132    310     56     92   1292      0      0      0      0  \n",
              "\n",
              "[5 rows x 171 columns]"
            ],
            "text/html": [
              "\n",
              "  <div id=\"df-0a8b186b-1e64-4c5c-9bdd-5edb038c11bb\">\n",
              "    <div class=\"colab-df-container\">\n",
              "      <div>\n",
              "<style scoped>\n",
              "    .dataframe tbody tr th:only-of-type {\n",
              "        vertical-align: middle;\n",
              "    }\n",
              "\n",
              "    .dataframe tbody tr th {\n",
              "        vertical-align: top;\n",
              "    }\n",
              "\n",
              "    .dataframe thead th {\n",
              "        text-align: right;\n",
              "    }\n",
              "</style>\n",
              "<table border=\"1\" class=\"dataframe\">\n",
              "  <thead>\n",
              "    <tr style=\"text-align: right;\">\n",
              "      <th></th>\n",
              "      <th>class</th>\n",
              "      <th>aa_000</th>\n",
              "      <th>ab_000</th>\n",
              "      <th>ac_000</th>\n",
              "      <th>ad_000</th>\n",
              "      <th>ae_000</th>\n",
              "      <th>af_000</th>\n",
              "      <th>ag_000</th>\n",
              "      <th>ag_001</th>\n",
              "      <th>ag_002</th>\n",
              "      <th>...</th>\n",
              "      <th>ee_002</th>\n",
              "      <th>ee_003</th>\n",
              "      <th>ee_004</th>\n",
              "      <th>ee_005</th>\n",
              "      <th>ee_006</th>\n",
              "      <th>ee_007</th>\n",
              "      <th>ee_008</th>\n",
              "      <th>ee_009</th>\n",
              "      <th>ef_000</th>\n",
              "      <th>eg_000</th>\n",
              "    </tr>\n",
              "  </thead>\n",
              "  <tbody>\n",
              "    <tr>\n",
              "      <th>0</th>\n",
              "      <td>neg</td>\n",
              "      <td>6</td>\n",
              "      <td>0</td>\n",
              "      <td>0</td>\n",
              "      <td>0</td>\n",
              "      <td>0</td>\n",
              "      <td>0</td>\n",
              "      <td>0</td>\n",
              "      <td>0</td>\n",
              "      <td>0</td>\n",
              "      <td>...</td>\n",
              "      <td>26</td>\n",
              "      <td>8</td>\n",
              "      <td>26</td>\n",
              "      <td>52</td>\n",
              "      <td>0</td>\n",
              "      <td>0</td>\n",
              "      <td>0</td>\n",
              "      <td>0</td>\n",
              "      <td>0</td>\n",
              "      <td>0</td>\n",
              "    </tr>\n",
              "    <tr>\n",
              "      <th>1</th>\n",
              "      <td>neg</td>\n",
              "      <td>90</td>\n",
              "      <td>0</td>\n",
              "      <td>0</td>\n",
              "      <td>66</td>\n",
              "      <td>0</td>\n",
              "      <td>0</td>\n",
              "      <td>0</td>\n",
              "      <td>0</td>\n",
              "      <td>0</td>\n",
              "      <td>...</td>\n",
              "      <td>1268</td>\n",
              "      <td>526</td>\n",
              "      <td>554</td>\n",
              "      <td>300</td>\n",
              "      <td>118</td>\n",
              "      <td>260</td>\n",
              "      <td>0</td>\n",
              "      <td>0</td>\n",
              "      <td>0</td>\n",
              "      <td>0</td>\n",
              "    </tr>\n",
              "    <tr>\n",
              "      <th>2</th>\n",
              "      <td>neg</td>\n",
              "      <td>30</td>\n",
              "      <td>0.0</td>\n",
              "      <td>16</td>\n",
              "      <td>14</td>\n",
              "      <td>0</td>\n",
              "      <td>0</td>\n",
              "      <td>0</td>\n",
              "      <td>0</td>\n",
              "      <td>0</td>\n",
              "      <td>...</td>\n",
              "      <td>480</td>\n",
              "      <td>84</td>\n",
              "      <td>74</td>\n",
              "      <td>50</td>\n",
              "      <td>46</td>\n",
              "      <td>0</td>\n",
              "      <td>0</td>\n",
              "      <td>0</td>\n",
              "      <td>0</td>\n",
              "      <td>0</td>\n",
              "    </tr>\n",
              "    <tr>\n",
              "      <th>3</th>\n",
              "      <td>neg</td>\n",
              "      <td>444</td>\n",
              "      <td>0.0</td>\n",
              "      <td>14</td>\n",
              "      <td>12</td>\n",
              "      <td>0</td>\n",
              "      <td>0</td>\n",
              "      <td>0</td>\n",
              "      <td>0</td>\n",
              "      <td>0</td>\n",
              "      <td>...</td>\n",
              "      <td>1614</td>\n",
              "      <td>1144</td>\n",
              "      <td>3598</td>\n",
              "      <td>2460</td>\n",
              "      <td>1258</td>\n",
              "      <td>8524</td>\n",
              "      <td>110</td>\n",
              "      <td>0</td>\n",
              "      <td>0</td>\n",
              "      <td>0</td>\n",
              "    </tr>\n",
              "    <tr>\n",
              "      <th>4</th>\n",
              "      <td>neg</td>\n",
              "      <td>82</td>\n",
              "      <td>0.0</td>\n",
              "      <td>12</td>\n",
              "      <td>10</td>\n",
              "      <td>0</td>\n",
              "      <td>0</td>\n",
              "      <td>0</td>\n",
              "      <td>0</td>\n",
              "      <td>1464</td>\n",
              "      <td>...</td>\n",
              "      <td>1010</td>\n",
              "      <td>132</td>\n",
              "      <td>310</td>\n",
              "      <td>56</td>\n",
              "      <td>92</td>\n",
              "      <td>1292</td>\n",
              "      <td>0</td>\n",
              "      <td>0</td>\n",
              "      <td>0</td>\n",
              "      <td>0</td>\n",
              "    </tr>\n",
              "  </tbody>\n",
              "</table>\n",
              "<p>5 rows × 171 columns</p>\n",
              "</div>\n",
              "      <button class=\"colab-df-convert\" onclick=\"convertToInteractive('df-0a8b186b-1e64-4c5c-9bdd-5edb038c11bb')\"\n",
              "              title=\"Convert this dataframe to an interactive table.\"\n",
              "              style=\"display:none;\">\n",
              "        \n",
              "  <svg xmlns=\"http://www.w3.org/2000/svg\" height=\"24px\"viewBox=\"0 0 24 24\"\n",
              "       width=\"24px\">\n",
              "    <path d=\"M0 0h24v24H0V0z\" fill=\"none\"/>\n",
              "    <path d=\"M18.56 5.44l.94 2.06.94-2.06 2.06-.94-2.06-.94-.94-2.06-.94 2.06-2.06.94zm-11 1L8.5 8.5l.94-2.06 2.06-.94-2.06-.94L8.5 2.5l-.94 2.06-2.06.94zm10 10l.94 2.06.94-2.06 2.06-.94-2.06-.94-.94-2.06-.94 2.06-2.06.94z\"/><path d=\"M17.41 7.96l-1.37-1.37c-.4-.4-.92-.59-1.43-.59-.52 0-1.04.2-1.43.59L10.3 9.45l-7.72 7.72c-.78.78-.78 2.05 0 2.83L4 21.41c.39.39.9.59 1.41.59.51 0 1.02-.2 1.41-.59l7.78-7.78 2.81-2.81c.8-.78.8-2.07 0-2.86zM5.41 20L4 18.59l7.72-7.72 1.47 1.35L5.41 20z\"/>\n",
              "  </svg>\n",
              "      </button>\n",
              "      \n",
              "  <style>\n",
              "    .colab-df-container {\n",
              "      display:flex;\n",
              "      flex-wrap:wrap;\n",
              "      gap: 12px;\n",
              "    }\n",
              "\n",
              "    .colab-df-convert {\n",
              "      background-color: #E8F0FE;\n",
              "      border: none;\n",
              "      border-radius: 50%;\n",
              "      cursor: pointer;\n",
              "      display: none;\n",
              "      fill: #1967D2;\n",
              "      height: 32px;\n",
              "      padding: 0 0 0 0;\n",
              "      width: 32px;\n",
              "    }\n",
              "\n",
              "    .colab-df-convert:hover {\n",
              "      background-color: #E2EBFA;\n",
              "      box-shadow: 0px 1px 2px rgba(60, 64, 67, 0.3), 0px 1px 3px 1px rgba(60, 64, 67, 0.15);\n",
              "      fill: #174EA6;\n",
              "    }\n",
              "\n",
              "    [theme=dark] .colab-df-convert {\n",
              "      background-color: #3B4455;\n",
              "      fill: #D2E3FC;\n",
              "    }\n",
              "\n",
              "    [theme=dark] .colab-df-convert:hover {\n",
              "      background-color: #434B5C;\n",
              "      box-shadow: 0px 1px 3px 1px rgba(0, 0, 0, 0.15);\n",
              "      filter: drop-shadow(0px 1px 2px rgba(0, 0, 0, 0.3));\n",
              "      fill: #FFFFFF;\n",
              "    }\n",
              "  </style>\n",
              "\n",
              "      <script>\n",
              "        const buttonEl =\n",
              "          document.querySelector('#df-0a8b186b-1e64-4c5c-9bdd-5edb038c11bb button.colab-df-convert');\n",
              "        buttonEl.style.display =\n",
              "          google.colab.kernel.accessAllowed ? 'block' : 'none';\n",
              "\n",
              "        async function convertToInteractive(key) {\n",
              "          const element = document.querySelector('#df-0a8b186b-1e64-4c5c-9bdd-5edb038c11bb');\n",
              "          const dataTable =\n",
              "            await google.colab.kernel.invokeFunction('convertToInteractive',\n",
              "                                                     [key], {});\n",
              "          if (!dataTable) return;\n",
              "\n",
              "          const docLinkHtml = 'Like what you see? Visit the ' +\n",
              "            '<a target=\"_blank\" href=https://colab.research.google.com/notebooks/data_table.ipynb>data table notebook</a>'\n",
              "            + ' to learn more about interactive tables.';\n",
              "          element.innerHTML = '';\n",
              "          dataTable['output_type'] = 'display_data';\n",
              "          await google.colab.output.renderOutput(dataTable, element);\n",
              "          const docLink = document.createElement('div');\n",
              "          docLink.innerHTML = docLinkHtml;\n",
              "          element.appendChild(docLink);\n",
              "        }\n",
              "      </script>\n",
              "    </div>\n",
              "  </div>\n",
              "  "
            ]
          },
          "metadata": {},
          "execution_count": 11
        }
      ]
    },
    {
      "cell_type": "code",
      "source": [
        "# segrading data\n",
        "X=dataset.drop('class',axis=1)"
      ],
      "metadata": {
        "id": "pCgOPvlIbXop"
      },
      "execution_count": 12,
      "outputs": []
    },
    {
      "cell_type": "code",
      "source": [
        "y=dataset['class']"
      ],
      "metadata": {
        "id": "YYg40R5gbk_g"
      },
      "execution_count": 13,
      "outputs": []
    },
    {
      "cell_type": "code",
      "source": [
        "X.info(verbose=True,show_counts=True)"
      ],
      "metadata": {
        "colab": {
          "base_uri": "https://localhost:8080/"
        },
        "id": "aokvpacZbrd6",
        "outputId": "3d58693a-3c79-4bd8-e8fd-77c70190592f"
      },
      "execution_count": 14,
      "outputs": [
        {
          "output_type": "stream",
          "name": "stdout",
          "text": [
            "<class 'pandas.core.frame.DataFrame'>\n",
            "RangeIndex: 5000 entries, 0 to 4999\n",
            "Data columns (total 170 columns):\n",
            " #    Column  Non-Null Count  Dtype \n",
            "---   ------  --------------  ----- \n",
            " 0    aa_000  5000 non-null   int64 \n",
            " 1    ab_000  5000 non-null   object\n",
            " 2    ac_000  5000 non-null   object\n",
            " 3    ad_000  5000 non-null   object\n",
            " 4    ae_000  5000 non-null   object\n",
            " 5    af_000  5000 non-null   object\n",
            " 6    ag_000  5000 non-null   object\n",
            " 7    ag_001  5000 non-null   object\n",
            " 8    ag_002  5000 non-null   object\n",
            " 9    ag_003  5000 non-null   object\n",
            " 10   ag_004  5000 non-null   object\n",
            " 11   ag_005  5000 non-null   object\n",
            " 12   ag_006  5000 non-null   object\n",
            " 13   ag_007  5000 non-null   object\n",
            " 14   ag_008  5000 non-null   object\n",
            " 15   ag_009  5000 non-null   object\n",
            " 16   ah_000  5000 non-null   object\n",
            " 17   ai_000  5000 non-null   object\n",
            " 18   aj_000  5000 non-null   object\n",
            " 19   ak_000  5000 non-null   object\n",
            " 20   al_000  5000 non-null   object\n",
            " 21   am_0    5000 non-null   object\n",
            " 22   an_000  5000 non-null   object\n",
            " 23   ao_000  5000 non-null   object\n",
            " 24   ap_000  5000 non-null   object\n",
            " 25   aq_000  5000 non-null   object\n",
            " 26   ar_000  5000 non-null   object\n",
            " 27   as_000  5000 non-null   object\n",
            " 28   at_000  5000 non-null   object\n",
            " 29   au_000  5000 non-null   object\n",
            " 30   av_000  5000 non-null   object\n",
            " 31   ax_000  5000 non-null   object\n",
            " 32   ay_000  5000 non-null   object\n",
            " 33   ay_001  5000 non-null   object\n",
            " 34   ay_002  5000 non-null   object\n",
            " 35   ay_003  5000 non-null   object\n",
            " 36   ay_004  5000 non-null   object\n",
            " 37   ay_005  5000 non-null   object\n",
            " 38   ay_006  5000 non-null   object\n",
            " 39   ay_007  5000 non-null   object\n",
            " 40   ay_008  5000 non-null   object\n",
            " 41   ay_009  5000 non-null   object\n",
            " 42   az_000  5000 non-null   object\n",
            " 43   az_001  5000 non-null   object\n",
            " 44   az_002  5000 non-null   object\n",
            " 45   az_003  5000 non-null   object\n",
            " 46   az_004  5000 non-null   object\n",
            " 47   az_005  5000 non-null   object\n",
            " 48   az_006  5000 non-null   object\n",
            " 49   az_007  5000 non-null   object\n",
            " 50   az_008  5000 non-null   object\n",
            " 51   az_009  5000 non-null   object\n",
            " 52   ba_000  5000 non-null   object\n",
            " 53   ba_001  5000 non-null   object\n",
            " 54   ba_002  5000 non-null   object\n",
            " 55   ba_003  5000 non-null   object\n",
            " 56   ba_004  5000 non-null   object\n",
            " 57   ba_005  5000 non-null   object\n",
            " 58   ba_006  5000 non-null   object\n",
            " 59   ba_007  5000 non-null   object\n",
            " 60   ba_008  5000 non-null   object\n",
            " 61   ba_009  5000 non-null   object\n",
            " 62   bb_000  5000 non-null   object\n",
            " 63   bc_000  5000 non-null   object\n",
            " 64   bd_000  5000 non-null   object\n",
            " 65   be_000  5000 non-null   object\n",
            " 66   bf_000  5000 non-null   object\n",
            " 67   bg_000  5000 non-null   object\n",
            " 68   bh_000  5000 non-null   object\n",
            " 69   bi_000  5000 non-null   object\n",
            " 70   bj_000  5000 non-null   object\n",
            " 71   bk_000  5000 non-null   object\n",
            " 72   bl_000  5000 non-null   object\n",
            " 73   bm_000  5000 non-null   object\n",
            " 74   bn_000  5000 non-null   object\n",
            " 75   bo_000  5000 non-null   object\n",
            " 76   bp_000  5000 non-null   object\n",
            " 77   bq_000  5000 non-null   object\n",
            " 78   br_000  5000 non-null   object\n",
            " 79   bs_000  5000 non-null   object\n",
            " 80   bt_000  5000 non-null   object\n",
            " 81   bu_000  5000 non-null   object\n",
            " 82   bv_000  5000 non-null   object\n",
            " 83   bx_000  5000 non-null   object\n",
            " 84   by_000  5000 non-null   object\n",
            " 85   bz_000  5000 non-null   object\n",
            " 86   ca_000  5000 non-null   object\n",
            " 87   cb_000  5000 non-null   object\n",
            " 88   cc_000  5000 non-null   object\n",
            " 89   cd_000  5000 non-null   object\n",
            " 90   ce_000  5000 non-null   object\n",
            " 91   cf_000  5000 non-null   object\n",
            " 92   cg_000  5000 non-null   object\n",
            " 93   ch_000  5000 non-null   object\n",
            " 94   ci_000  5000 non-null   object\n",
            " 95   cj_000  5000 non-null   object\n",
            " 96   ck_000  5000 non-null   object\n",
            " 97   cl_000  5000 non-null   object\n",
            " 98   cm_000  5000 non-null   object\n",
            " 99   cn_000  5000 non-null   object\n",
            " 100  cn_001  5000 non-null   object\n",
            " 101  cn_002  5000 non-null   object\n",
            " 102  cn_003  5000 non-null   object\n",
            " 103  cn_004  5000 non-null   object\n",
            " 104  cn_005  5000 non-null   object\n",
            " 105  cn_006  5000 non-null   object\n",
            " 106  cn_007  5000 non-null   object\n",
            " 107  cn_008  5000 non-null   object\n",
            " 108  cn_009  5000 non-null   object\n",
            " 109  co_000  5000 non-null   object\n",
            " 110  cp_000  5000 non-null   object\n",
            " 111  cq_000  5000 non-null   object\n",
            " 112  cr_000  5000 non-null   object\n",
            " 113  cs_000  5000 non-null   object\n",
            " 114  cs_001  5000 non-null   object\n",
            " 115  cs_002  5000 non-null   object\n",
            " 116  cs_003  5000 non-null   object\n",
            " 117  cs_004  5000 non-null   object\n",
            " 118  cs_005  5000 non-null   object\n",
            " 119  cs_006  5000 non-null   object\n",
            " 120  cs_007  5000 non-null   object\n",
            " 121  cs_008  5000 non-null   object\n",
            " 122  cs_009  5000 non-null   object\n",
            " 123  ct_000  5000 non-null   object\n",
            " 124  cu_000  5000 non-null   object\n",
            " 125  cv_000  5000 non-null   object\n",
            " 126  cx_000  5000 non-null   object\n",
            " 127  cy_000  5000 non-null   object\n",
            " 128  cz_000  5000 non-null   object\n",
            " 129  da_000  5000 non-null   object\n",
            " 130  db_000  5000 non-null   object\n",
            " 131  dc_000  5000 non-null   object\n",
            " 132  dd_000  5000 non-null   object\n",
            " 133  de_000  5000 non-null   object\n",
            " 134  df_000  5000 non-null   object\n",
            " 135  dg_000  5000 non-null   object\n",
            " 136  dh_000  5000 non-null   object\n",
            " 137  di_000  5000 non-null   object\n",
            " 138  dj_000  5000 non-null   object\n",
            " 139  dk_000  5000 non-null   object\n",
            " 140  dl_000  5000 non-null   object\n",
            " 141  dm_000  5000 non-null   object\n",
            " 142  dn_000  5000 non-null   object\n",
            " 143  do_000  5000 non-null   object\n",
            " 144  dp_000  5000 non-null   object\n",
            " 145  dq_000  5000 non-null   object\n",
            " 146  dr_000  5000 non-null   object\n",
            " 147  ds_000  5000 non-null   object\n",
            " 148  dt_000  5000 non-null   object\n",
            " 149  du_000  5000 non-null   object\n",
            " 150  dv_000  5000 non-null   object\n",
            " 151  dx_000  5000 non-null   object\n",
            " 152  dy_000  5000 non-null   object\n",
            " 153  dz_000  5000 non-null   object\n",
            " 154  ea_000  5000 non-null   object\n",
            " 155  eb_000  5000 non-null   object\n",
            " 156  ec_00   5000 non-null   object\n",
            " 157  ed_000  5000 non-null   object\n",
            " 158  ee_000  5000 non-null   object\n",
            " 159  ee_001  5000 non-null   object\n",
            " 160  ee_002  5000 non-null   object\n",
            " 161  ee_003  5000 non-null   object\n",
            " 162  ee_004  5000 non-null   object\n",
            " 163  ee_005  5000 non-null   object\n",
            " 164  ee_006  5000 non-null   object\n",
            " 165  ee_007  5000 non-null   object\n",
            " 166  ee_008  5000 non-null   object\n",
            " 167  ee_009  5000 non-null   object\n",
            " 168  ef_000  5000 non-null   object\n",
            " 169  eg_000  5000 non-null   object\n",
            "dtypes: int64(1), object(169)\n",
            "memory usage: 6.5+ MB\n"
          ]
        }
      ]
    },
    {
      "cell_type": "code",
      "source": [
        "y=pd.get_dummies(y,drop_first=True)"
      ],
      "metadata": {
        "id": "NJsN-YKScRaM"
      },
      "execution_count": 15,
      "outputs": []
    },
    {
      "cell_type": "code",
      "source": [
        "# data spliting into train and test set\n",
        "from sklearn.model_selection import train_test_split\n",
        "X_train,X_test,y_train,y_test=train_test_split(X,y,test_size=0.2,random_state=0)"
      ],
      "metadata": {
        "id": "jvSSxfjgdC42"
      },
      "execution_count": 16,
      "outputs": []
    },
    {
      "cell_type": "code",
      "source": [
        "print(X_train.shape)\n",
        "print(X_test.shape)\n",
        "print(y_train.shape)\n",
        "print(y_test.shape)"
      ],
      "metadata": {
        "colab": {
          "base_uri": "https://localhost:8080/"
        },
        "id": "GtP48KqneFcl",
        "outputId": "2f085f49-5e95-4272-9a0a-953c004bb171"
      },
      "execution_count": 17,
      "outputs": [
        {
          "output_type": "stream",
          "name": "stdout",
          "text": [
            "(4000, 170)\n",
            "(1000, 170)\n",
            "(4000, 1)\n",
            "(1000, 1)\n"
          ]
        }
      ]
    },
    {
      "cell_type": "code",
      "source": [
        "# scaler the data transforming into small scale\n",
        "from sklearn.preprocessing import StandardScaler\n",
        "sc=StandardScaler()\n",
        "X_train=sc.fit_transform(X_train)\n",
        "X_test=sc.transform(X_test)"
      ],
      "metadata": {
        "id": "x0YMr-uxfkyo"
      },
      "execution_count": 18,
      "outputs": []
    },
    {
      "cell_type": "code",
      "source": [
        "import tensorflow.keras\n",
        "from tensorflow.keras import Sequential\n",
        "from tensorflow.keras.layers import Dense\n",
        "from tensorflow.keras.layers import Dropout\n"
      ],
      "metadata": {
        "id": "-sivAwtbgxQI"
      },
      "execution_count": 19,
      "outputs": []
    },
    {
      "cell_type": "code",
      "source": [
        "classifier=Sequential()\n",
        "\n",
        "classifier.add(Dense(units=10,kernel_initializer='he_uniform',activation='relu',input_dim=170))\n",
        "classifier.add(Dense(units=10,kernel_initializer='he_uniform',activation='relu'))\n",
        "classifier.add(Dense(units=1,kernel_initializer='glorot_uniform',activation='sigmoid'))"
      ],
      "metadata": {
        "id": "cLJt2i4wjl2x"
      },
      "execution_count": 20,
      "outputs": []
    },
    {
      "cell_type": "code",
      "source": [
        "classifier.compile(optimizer='adam',loss='binary_crossentropy',metrics=['accuracy'])"
      ],
      "metadata": {
        "id": "HJS4lFu7mvgJ"
      },
      "execution_count": 21,
      "outputs": []
    },
    {
      "cell_type": "code",
      "source": [
        "classifier.summary()"
      ],
      "metadata": {
        "colab": {
          "base_uri": "https://localhost:8080/"
        },
        "id": "o0rNa9NrpJRf",
        "outputId": "45038600-94e3-4a8a-a09e-e05b2a7aaa40"
      },
      "execution_count": 22,
      "outputs": [
        {
          "output_type": "stream",
          "name": "stdout",
          "text": [
            "Model: \"sequential\"\n",
            "_________________________________________________________________\n",
            " Layer (type)                Output Shape              Param #   \n",
            "=================================================================\n",
            " dense (Dense)               (None, 10)                1710      \n",
            "                                                                 \n",
            " dense_1 (Dense)             (None, 10)                110       \n",
            "                                                                 \n",
            " dense_2 (Dense)             (None, 1)                 11        \n",
            "                                                                 \n",
            "=================================================================\n",
            "Total params: 1,831\n",
            "Trainable params: 1,831\n",
            "Non-trainable params: 0\n",
            "_________________________________________________________________\n"
          ]
        }
      ]
    },
    {
      "cell_type": "code",
      "source": [
        "model_history=classifier.fit(X_train,y_train,batch_size=10,epochs=20,validation_split=0.25)"
      ],
      "metadata": {
        "colab": {
          "base_uri": "https://localhost:8080/"
        },
        "id": "lG4EWjJzqFsr",
        "outputId": "ed1d5922-70e1-4065-8ce3-a6900013016c"
      },
      "execution_count": 23,
      "outputs": [
        {
          "output_type": "stream",
          "name": "stdout",
          "text": [
            "Epoch 1/20\n",
            "300/300 [==============================] - 3s 3ms/step - loss: 0.6612 - accuracy: 0.7933 - val_loss: 0.3781 - val_accuracy: 0.9800\n",
            "Epoch 2/20\n",
            "300/300 [==============================] - 1s 3ms/step - loss: 0.1486 - accuracy: 0.9820 - val_loss: 0.0685 - val_accuracy: 0.9850\n",
            "Epoch 3/20\n",
            "300/300 [==============================] - 1s 3ms/step - loss: 0.0445 - accuracy: 0.9880 - val_loss: 0.0561 - val_accuracy: 0.9870\n",
            "Epoch 4/20\n",
            "300/300 [==============================] - 1s 3ms/step - loss: 0.0316 - accuracy: 0.9903 - val_loss: 0.0532 - val_accuracy: 0.9870\n",
            "Epoch 5/20\n",
            "300/300 [==============================] - 1s 3ms/step - loss: 0.0225 - accuracy: 0.9930 - val_loss: 0.0593 - val_accuracy: 0.9890\n",
            "Epoch 6/20\n",
            "300/300 [==============================] - 1s 3ms/step - loss: 0.0188 - accuracy: 0.9937 - val_loss: 0.0583 - val_accuracy: 0.9890\n",
            "Epoch 7/20\n",
            "300/300 [==============================] - 1s 3ms/step - loss: 0.0188 - accuracy: 0.9937 - val_loss: 0.0663 - val_accuracy: 0.9870\n",
            "Epoch 8/20\n",
            "300/300 [==============================] - 1s 3ms/step - loss: 0.0145 - accuracy: 0.9943 - val_loss: 0.0731 - val_accuracy: 0.9840\n",
            "Epoch 9/20\n",
            "300/300 [==============================] - 1s 3ms/step - loss: 0.0127 - accuracy: 0.9960 - val_loss: 0.0771 - val_accuracy: 0.9830\n",
            "Epoch 10/20\n",
            "300/300 [==============================] - 1s 3ms/step - loss: 0.0113 - accuracy: 0.9963 - val_loss: 0.0721 - val_accuracy: 0.9850\n",
            "Epoch 11/20\n",
            "300/300 [==============================] - 1s 3ms/step - loss: 0.0099 - accuracy: 0.9967 - val_loss: 0.0804 - val_accuracy: 0.9880\n",
            "Epoch 12/20\n",
            "300/300 [==============================] - 1s 3ms/step - loss: 0.0087 - accuracy: 0.9977 - val_loss: 0.0836 - val_accuracy: 0.9850\n",
            "Epoch 13/20\n",
            "300/300 [==============================] - 1s 3ms/step - loss: 0.0081 - accuracy: 0.9977 - val_loss: 0.0898 - val_accuracy: 0.9830\n",
            "Epoch 14/20\n",
            "300/300 [==============================] - 1s 3ms/step - loss: 0.0085 - accuracy: 0.9973 - val_loss: 0.0874 - val_accuracy: 0.9860\n",
            "Epoch 15/20\n",
            "300/300 [==============================] - 1s 3ms/step - loss: 0.0134 - accuracy: 0.9957 - val_loss: 0.0889 - val_accuracy: 0.9860\n",
            "Epoch 16/20\n",
            "300/300 [==============================] - 1s 3ms/step - loss: 0.0067 - accuracy: 0.9973 - val_loss: 0.0999 - val_accuracy: 0.9860\n",
            "Epoch 17/20\n",
            "300/300 [==============================] - 1s 3ms/step - loss: 0.0059 - accuracy: 0.9970 - val_loss: 0.1092 - val_accuracy: 0.9830\n",
            "Epoch 18/20\n",
            "300/300 [==============================] - 1s 3ms/step - loss: 0.0053 - accuracy: 0.9980 - val_loss: 0.1080 - val_accuracy: 0.9860\n",
            "Epoch 19/20\n",
            "300/300 [==============================] - 1s 3ms/step - loss: 0.0043 - accuracy: 0.9990 - val_loss: 0.1120 - val_accuracy: 0.9840\n",
            "Epoch 20/20\n",
            "300/300 [==============================] - 1s 3ms/step - loss: 0.0042 - accuracy: 0.9983 - val_loss: 0.1063 - val_accuracy: 0.9870\n"
          ]
        }
      ]
    },
    {
      "cell_type": "code",
      "source": [
        "model_history.history.keys()"
      ],
      "metadata": {
        "id": "prFlmYzFr1IG",
        "colab": {
          "base_uri": "https://localhost:8080/"
        },
        "outputId": "9825edc1-4552-4ddf-9aeb-247ccb5384d6"
      },
      "execution_count": 24,
      "outputs": [
        {
          "output_type": "execute_result",
          "data": {
            "text/plain": [
              "dict_keys(['loss', 'accuracy', 'val_loss', 'val_accuracy'])"
            ]
          },
          "metadata": {},
          "execution_count": 24
        }
      ]
    },
    {
      "cell_type": "code",
      "source": [
        "plt.plot(model_history.history['accuracy'])\n",
        "plt.plot(model_history.history['val_accuracy'])"
      ],
      "metadata": {
        "colab": {
          "base_uri": "https://localhost:8080/",
          "height": 282
        },
        "id": "9cDmaH-30JaV",
        "outputId": "4a1e38a0-efa6-4397-8c56-0e847e943699"
      },
      "execution_count": 25,
      "outputs": [
        {
          "output_type": "execute_result",
          "data": {
            "text/plain": [
              "[<matplotlib.lines.Line2D at 0x7f7dbc1a1940>]"
            ]
          },
          "metadata": {},
          "execution_count": 25
        },
        {
          "output_type": "display_data",
          "data": {
            "text/plain": [
              "<Figure size 432x288 with 1 Axes>"
            ],
            "image/png": "[encoded data removed]"
          },
          "metadata": {
            "needs_background": "light"
          }
        }
      ]
    },
    {
      "cell_type": "code",
      "source": [
        "print(model_history.history.keys())\n",
        "# summarize history for accuracy\n",
        "plt.plot(model_history.history['accuracy'])\n",
        "plt.plot(model_history.history['val_accuracy'])\n",
        "plt.title('model accuracy')\n",
        "plt.ylabel('accuracy')\n",
        "plt.xlabel('epoch')\n",
        "plt.legend(['train', 'test'], loc='upper left')\n",
        "plt.show()"
      ],
      "metadata": {
        "colab": {
          "base_uri": "https://localhost:8080/",
          "height": 312
        },
        "id": "7h3GMfbd1FZl",
        "outputId": "c76707e5-4c9d-4b78-daa3-1bf50c344227"
      },
      "execution_count": 26,
      "outputs": [
        {
          "output_type": "stream",
          "name": "stdout",
          "text": [
            "dict_keys(['loss', 'accuracy', 'val_loss', 'val_accuracy'])\n"
          ]
        },
        {
          "output_type": "display_data",
          "data": {
            "text/plain": [
              "<Figure size 432x288 with 1 Axes>"
            ],
            "image/png": "[encoded data removed]"
          },
          "metadata": {
            "needs_background": "light"
          }
        }
      ]
    },
    {
      "cell_type": "code",
      "source": [
        "y_pred=classifier.predict(X_test)"
      ],
      "metadata": {
        "colab": {
          "base_uri": "https://localhost:8080/"
        },
        "id": "J37nnHFA1msE",
        "outputId": "adeae69c-88d7-473e-cc3a-e6ac87e4a33a"
      },
      "execution_count": 27,
      "outputs": [
        {
          "output_type": "stream",
          "name": "stdout",
          "text": [
            "32/32 [==============================] - 0s 1ms/step\n"
          ]
        }
      ]
    },
    {
      "cell_type": "code",
      "source": [
        "y_pred=y>0.05"
      ],
      "metadata": {
        "id": "-cti3dOm2MHD"
      },
      "execution_count": 28,
      "outputs": []
    },
    {
      "cell_type": "code",
      "source": [
        "from sklearn.metrics import confusion_matrix"
      ],
      "metadata": {
        "id": "HoYdKDJL2VXu"
      },
      "execution_count": 29,
      "outputs": []
    },
    {
      "cell_type": "code",
      "source": [],
      "metadata": {
        "id": "1vxEhCao2sQ2"
      },
      "execution_count": 30,
      "outputs": []
    },
    {
      "cell_type": "code",
      "source": [
        "!pip install keras-tuner --upgrade"
      ],
      "metadata": {
        "id": "vbTYlL7k3C2w",
        "colab": {
          "base_uri": "https://localhost:8080/"
        },
        "outputId": "6a70a8c6-c206-4087-b4ce-f1f4695f9952"
      },
      "execution_count": 31,
      "outputs": [
        {
          "output_type": "stream",
          "name": "stdout",
          "text": [
            "Looking in indexes: https://pypi.org/simple, https://us-python.pkg.dev/colab-wheels/public/simple/\n",
            "Collecting keras-tuner\n",
            "  Downloading keras_tuner-1.2.0-py3-none-any.whl (168 kB)\n",
            "\u001b[2K     \u001b[90m━━━━━━━━━━━━━━━━━━━━━━━━━━━━━━━━━━━━━━━\u001b[0m \u001b[32m168.1/168.1 KB\u001b[0m \u001b[31m5.1 MB/s\u001b[0m eta \u001b[36m0:00:00\u001b[0m\n",
            "\u001b[?25hCollecting kt-legacy\n",
            "  Downloading kt_legacy-1.0.4-py3-none-any.whl (9.6 kB)\n",
            "Requirement already satisfied: ipython in /usr/local/lib/python3.8/dist-packages (from keras-tuner) (7.9.0)\n",
            "Requirement already satisfied: packaging in /usr/local/lib/python3.8/dist-packages (from keras-tuner) (21.3)\n",
            "Requirement already satisfied: requests in /usr/local/lib/python3.8/dist-packages (from keras-tuner) (2.25.1)\n",
            "Requirement already satisfied: tensorflow>=2.0 in /usr/local/lib/python3.8/dist-packages (from keras-tuner) (2.9.2)\n",
            "Requirement already satisfied: tensorflow-estimator<2.10.0,>=2.9.0rc0 in /usr/local/lib/python3.8/dist-packages (from tensorflow>=2.0->keras-tuner) (2.9.0)\n",
            "Requirement already satisfied: tensorflow-io-gcs-filesystem>=0.23.1 in /usr/local/lib/python3.8/dist-packages (from tensorflow>=2.0->keras-tuner) (0.29.0)\n",
            "Requirement already satisfied: flatbuffers<2,>=1.12 in /usr/local/lib/python3.8/dist-packages (from tensorflow>=2.0->keras-tuner) (1.12)\n",
            "Requirement already satisfied: absl-py>=1.0.0 in /usr/local/lib/python3.8/dist-packages (from tensorflow>=2.0->keras-tuner) (1.3.0)\n",
            "Requirement already satisfied: typing-extensions>=3.6.6 in /usr/local/lib/python3.8/dist-packages (from tensorflow>=2.0->keras-tuner) (4.4.0)\n",
            "Requirement already satisfied: tensorboard<2.10,>=2.9 in /usr/local/lib/python3.8/dist-packages (from tensorflow>=2.0->keras-tuner) (2.9.1)\n",
            "Requirement already satisfied: opt-einsum>=2.3.2 in /usr/local/lib/python3.8/dist-packages (from tensorflow>=2.0->keras-tuner) (3.3.0)\n",
            "Requirement already satisfied: h5py>=2.9.0 in /usr/local/lib/python3.8/dist-packages (from tensorflow>=2.0->keras-tuner) (3.1.0)\n",
            "Requirement already satisfied: libclang>=13.0.0 in /usr/local/lib/python3.8/dist-packages (from tensorflow>=2.0->keras-tuner) (15.0.6.1)\n",
            "Requirement already satisfied: grpcio<2.0,>=1.24.3 in /usr/local/lib/python3.8/dist-packages (from tensorflow>=2.0->keras-tuner) (1.51.1)\n",
            "Requirement already satisfied: google-pasta>=0.1.1 in /usr/local/lib/python3.8/dist-packages (from tensorflow>=2.0->keras-tuner) (0.2.0)\n",
            "Requirement already satisfied: setuptools in /usr/local/lib/python3.8/dist-packages (from tensorflow>=2.0->keras-tuner) (57.4.0)\n",
            "Requirement already satisfied: keras-preprocessing>=1.1.1 in /usr/local/lib/python3.8/dist-packages (from tensorflow>=2.0->keras-tuner) (1.1.2)\n",
            "Requirement already satisfied: keras<2.10.0,>=2.9.0rc0 in /usr/local/lib/python3.8/dist-packages (from tensorflow>=2.0->keras-tuner) (2.9.0)\n",
            "Requirement already satisfied: protobuf<3.20,>=3.9.2 in /usr/local/lib/python3.8/dist-packages (from tensorflow>=2.0->keras-tuner) (3.19.6)\n",
            "Requirement already satisfied: gast<=0.4.0,>=0.2.1 in /usr/local/lib/python3.8/dist-packages (from tensorflow>=2.0->keras-tuner) (0.4.0)\n",
            "Requirement already satisfied: astunparse>=1.6.0 in /usr/local/lib/python3.8/dist-packages (from tensorflow>=2.0->keras-tuner) (1.6.3)\n",
            "Requirement already satisfied: termcolor>=1.1.0 in /usr/local/lib/python3.8/dist-packages (from tensorflow>=2.0->keras-tuner) (2.2.0)\n",
            "Requirement already satisfied: six>=1.12.0 in /usr/local/lib/python3.8/dist-packages (from tensorflow>=2.0->keras-tuner) (1.15.0)\n",
            "Requirement already satisfied: wrapt>=1.11.0 in /usr/local/lib/python3.8/dist-packages (from tensorflow>=2.0->keras-tuner) (1.14.1)\n",
            "Requirement already satisfied: numpy>=1.20 in /usr/local/lib/python3.8/dist-packages (from tensorflow>=2.0->keras-tuner) (1.21.6)\n",
            "Requirement already satisfied: backcall in /usr/local/lib/python3.8/dist-packages (from ipython->keras-tuner) (0.2.0)\n",
            "Requirement already satisfied: decorator in /usr/local/lib/python3.8/dist-packages (from ipython->keras-tuner) (4.4.2)\n",
            "Requirement already satisfied: pexpect in /usr/local/lib/python3.8/dist-packages (from ipython->keras-tuner) (4.8.0)\n",
            "Requirement already satisfied: prompt-toolkit<2.1.0,>=2.0.0 in /usr/local/lib/python3.8/dist-packages (from ipython->keras-tuner) (2.0.10)\n",
            "Collecting jedi>=0.10\n",
            "  Downloading jedi-0.18.2-py2.py3-none-any.whl (1.6 MB)\n",
            "\u001b[2K     \u001b[90m━━━━━━━━━━━━━━━━━━━━━━━━━━━━━━━━━━━━━━━━\u001b[0m \u001b[32m1.6/1.6 MB\u001b[0m \u001b[31m33.7 MB/s\u001b[0m eta \u001b[36m0:00:00\u001b[0m\n",
            "\u001b[?25hRequirement already satisfied: traitlets>=4.2 in /usr/local/lib/python3.8/dist-packages (from ipython->keras-tuner) (5.7.1)\n",
            "Requirement already satisfied: pygments in /usr/local/lib/python3.8/dist-packages (from ipython->keras-tuner) (2.6.1)\n",
            "Requirement already satisfied: pickleshare in /usr/local/lib/python3.8/dist-packages (from ipython->keras-tuner) (0.7.5)\n",
            "Requirement already satisfied: pyparsing!=3.0.5,>=2.0.2 in /usr/local/lib/python3.8/dist-packages (from packaging->keras-tuner) (3.0.9)\n",
            "Requirement already satisfied: idna<3,>=2.5 in /usr/local/lib/python3.8/dist-packages (from requests->keras-tuner) (2.10)\n",
            "Requirement already satisfied: chardet<5,>=3.0.2 in /usr/local/lib/python3.8/dist-packages (from requests->keras-tuner) (4.0.0)\n",
            "Requirement already satisfied: urllib3<1.27,>=1.21.1 in /usr/local/lib/python3.8/dist-packages (from requests->keras-tuner) (1.24.3)\n",
            "Requirement already satisfied: certifi>=2017.4.17 in /usr/local/lib/python3.8/dist-packages (from requests->keras-tuner) (2022.12.7)\n",
            "Requirement already satisfied: wheel<1.0,>=0.23.0 in /usr/local/lib/python3.8/dist-packages (from astunparse>=1.6.0->tensorflow>=2.0->keras-tuner) (0.38.4)\n",
            "Requirement already satisfied: parso<0.9.0,>=0.8.0 in /usr/local/lib/python3.8/dist-packages (from jedi>=0.10->ipython->keras-tuner) (0.8.3)\n",
            "Requirement already satisfied: wcwidth in /usr/local/lib/python3.8/dist-packages (from prompt-toolkit<2.1.0,>=2.0.0->ipython->keras-tuner) (0.2.5)\n",
            "Requirement already satisfied: google-auth-oauthlib<0.5,>=0.4.1 in /usr/local/lib/python3.8/dist-packages (from tensorboard<2.10,>=2.9->tensorflow>=2.0->keras-tuner) (0.4.6)\n",
            "Requirement already satisfied: werkzeug>=1.0.1 in /usr/local/lib/python3.8/dist-packages (from tensorboard<2.10,>=2.9->tensorflow>=2.0->keras-tuner) (1.0.1)\n",
            "Requirement already satisfied: tensorboard-data-server<0.7.0,>=0.6.0 in /usr/local/lib/python3.8/dist-packages (from tensorboard<2.10,>=2.9->tensorflow>=2.0->keras-tuner) (0.6.1)\n",
            "Requirement already satisfied: tensorboard-plugin-wit>=1.6.0 in /usr/local/lib/python3.8/dist-packages (from tensorboard<2.10,>=2.9->tensorflow>=2.0->keras-tuner) (1.8.1)\n",
            "Requirement already satisfied: google-auth<3,>=1.6.3 in /usr/local/lib/python3.8/dist-packages (from tensorboard<2.10,>=2.9->tensorflow>=2.0->keras-tuner) (2.16.0)\n",
            "Requirement already satisfied: markdown>=2.6.8 in /usr/local/lib/python3.8/dist-packages (from tensorboard<2.10,>=2.9->tensorflow>=2.0->keras-tuner) (3.4.1)\n",
            "Requirement already satisfied: ptyprocess>=0.5 in /usr/local/lib/python3.8/dist-packages (from pexpect->ipython->keras-tuner) (0.7.0)\n",
            "Requirement already satisfied: cachetools<6.0,>=2.0.0 in /usr/local/lib/python3.8/dist-packages (from google-auth<3,>=1.6.3->tensorboard<2.10,>=2.9->tensorflow>=2.0->keras-tuner) (5.2.1)\n",
            "Requirement already satisfied: pyasn1-modules>=0.2.1 in /usr/local/lib/python3.8/dist-packages (from google-auth<3,>=1.6.3->tensorboard<2.10,>=2.9->tensorflow>=2.0->keras-tuner) (0.2.8)\n",
            "Requirement already satisfied: rsa<5,>=3.1.4 in /usr/local/lib/python3.8/dist-packages (from google-auth<3,>=1.6.3->tensorboard<2.10,>=2.9->tensorflow>=2.0->keras-tuner) (4.9)\n",
            "Requirement already satisfied: requests-oauthlib>=0.7.0 in /usr/local/lib/python3.8/dist-packages (from google-auth-oauthlib<0.5,>=0.4.1->tensorboard<2.10,>=2.9->tensorflow>=2.0->keras-tuner) (1.3.1)\n",
            "Requirement already satisfied: importlib-metadata>=4.4 in /usr/local/lib/python3.8/dist-packages (from markdown>=2.6.8->tensorboard<2.10,>=2.9->tensorflow>=2.0->keras-tuner) (6.0.0)\n",
            "Requirement already satisfied: zipp>=0.5 in /usr/local/lib/python3.8/dist-packages (from importlib-metadata>=4.4->markdown>=2.6.8->tensorboard<2.10,>=2.9->tensorflow>=2.0->keras-tuner) (3.11.0)\n",
            "Requirement already satisfied: pyasn1<0.5.0,>=0.4.6 in /usr/local/lib/python3.8/dist-packages (from pyasn1-modules>=0.2.1->google-auth<3,>=1.6.3->tensorboard<2.10,>=2.9->tensorflow>=2.0->keras-tuner) (0.4.8)\n",
            "Requirement already satisfied: oauthlib>=3.0.0 in /usr/local/lib/python3.8/dist-packages (from requests-oauthlib>=0.7.0->google-auth-oauthlib<0.5,>=0.4.1->tensorboard<2.10,>=2.9->tensorflow>=2.0->keras-tuner) (3.2.2)\n",
            "Installing collected packages: kt-legacy, jedi, keras-tuner\n",
            "Successfully installed jedi-0.18.2 keras-tuner-1.2.0 kt-legacy-1.0.4\n"
          ]
        }
      ]
    },
    {
      "cell_type": "code",
      "source": [
        "from kerastuner.tuners import RandomSearch\n"
      ],
      "metadata": {
        "id": "ndQ1VVAkq9Us"
      },
      "execution_count": 32,
      "outputs": []
    },
    {
      "cell_type": "code",
      "source": [
        "from tensorflow.keras import optimizers\n",
        "def build_model(hp):\n",
        "    model = Sequential()\n",
        "    for i in range(hp.Int('num_layers', 2, 20)):\n",
        "        model.add(Dense(units=hp.Int('units_' + str(i),\n",
        "                                            min_value=32,\n",
        "                                            max_value=512,\n",
        "                                            step=32),\n",
        "                               activation='relu'))\n",
        "    model.add(Dense(1, activation='sigmoid'))\n",
        "    model.compile(\n",
        "        optimizer=optimizers.Adam(\n",
        "            hp.Choice('learning_rate', [1e-2, 1e-3, 1e-4])),\n",
        "        loss='binary_crossentropy',\n",
        "        metrics=['accuracy'])\n",
        "    return model"
      ],
      "metadata": {
        "id": "WV9FqBoErSEb"
      },
      "execution_count": 50,
      "outputs": []
    },
    {
      "cell_type": "code",
      "source": [
        "tuner_second=RandomSearch(build_model,objective='val_accuracy',max_trials=5,directory='project3',project_name='aps-fault-sensor')\n"
      ],
      "metadata": {
        "id": "-3rMGtWouDlV"
      },
      "execution_count": 51,
      "outputs": []
    },
    {
      "cell_type": "code",
      "source": [
        "tuner_second.search(X_train,y_train,epochs=5,validation_data=(X_test,y_test))\n"
      ],
      "metadata": {
        "colab": {
          "base_uri": "https://localhost:8080/"
        },
        "id": "Skx5KINauWZ4",
        "outputId": "eb88d294-24d0-43ea-f091-5b878855450e"
      },
      "execution_count": 52,
      "outputs": [
        {
          "output_type": "stream",
          "name": "stdout",
          "text": [
            "Trial 5 Complete [00h 00m 06s]\n",
            "val_accuracy: 0.9860000014305115\n",
            "\n",
            "Best val_accuracy So Far: 0.9890000224113464\n",
            "Total elapsed time: 00h 00m 28s\n"
          ]
        }
      ]
    },
    {
      "cell_type": "code",
      "source": [
        "tuner_second.get_best_hyperparameters()[0].values\n"
      ],
      "metadata": {
        "colab": {
          "base_uri": "https://localhost:8080/"
        },
        "id": "_6Omu9VNunho",
        "outputId": "d6d05136-d3f4-4b7d-9bb6-40b5ef90aea0"
      },
      "execution_count": 53,
      "outputs": [
        {
          "output_type": "execute_result",
          "data": {
            "text/plain": [
              "{'num_layers': 11,\n",
              " 'units_0': 128,\n",
              " 'units_1': 96,\n",
              " 'learning_rate': 0.001,\n",
              " 'units_2': 128,\n",
              " 'units_3': 64,\n",
              " 'units_4': 448,\n",
              " 'units_5': 224,\n",
              " 'units_6': 160,\n",
              " 'units_7': 224,\n",
              " 'units_8': 320,\n",
              " 'units_9': 192,\n",
              " 'units_10': 160,\n",
              " 'units_11': 320,\n",
              " 'units_12': 320,\n",
              " 'units_13': 160,\n",
              " 'units_14': 288,\n",
              " 'units_15': 96,\n",
              " 'units_16': 32,\n",
              " 'units_17': 288,\n",
              " 'units_18': 480,\n",
              " 'units_19': 64}"
            ]
          },
          "metadata": {},
          "execution_count": 53
        }
      ]
    },
    {
      "cell_type": "code",
      "source": [
        "classifier2=tuner_second.get_best_models(num_models=1)[0]\n"
      ],
      "metadata": {
        "id": "egP6RY85wVRn"
      },
      "execution_count": 54,
      "outputs": []
    },
    {
      "cell_type": "code",
      "source": [
        "\n"
      ],
      "metadata": {
        "id": "S2HTmTaXwmgx"
      },
      "execution_count": 55,
      "outputs": []
    },
    {
      "cell_type": "code",
      "source": [],
      "metadata": {
        "id": "E03WnS9G0xUK"
      },
      "execution_count": null,
      "outputs": []
    }
  ]
}